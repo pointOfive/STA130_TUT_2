{
 "cells": [
  {
   "cell_type": "markdown",
   "id": "e3ef9e6c",
   "metadata": {
    "slideshow": {
     "slide_type": "slide"
    }
   },
   "source": [
    "# STA130 Tutorial 2: Data Wrangling\n",
    "\n",
    "NASA: determines temperature doesn't affects \"o-ring\" by subseting data to just \"o-ring\" incidents  \n",
    "Also NASA: Launches the shuttle on a cold day\n",
    "\n",
    "|![](https://etzq49yfnmd.exactdn.com/wp-content/uploads/2022/03/image06-14.png)|![](https://etzq49yfnmd.exactdn.com/wp-content/uploads/2022/03/image02-33.png)|\n",
    "|-|-|\n",
    "| | |"
   ]
  },
  {
   "cell_type": "markdown",
   "id": "c3f215dd",
   "metadata": {
    "slideshow": {
     "slide_type": "subslide"
    }
   },
   "source": [
    "# [The Challenger Disaster](https://priceonomics.com/the-space-shuttle-challenger-explosion-and-the-o): less than ideal data wrangling \n",
    "\n",
    "- Potential improvements in data wrangling workflow could be considered\n",
    "\n",
    "|<div><img src=\"https://assets.bwbx.io/images/users/iqjWHBFdfxIU/i59J1oFVgxvg/v1/1200x-1.jpg\" width=\"416\"></div>|![](https://media.tenor.com/VAGI1Ec5us8AAAAC/challenger-explosion.gif)|\n",
    "|-|-|\n",
    "| | |"
   ]
  },
  {
   "cell_type": "markdown",
   "id": "4de0e4ff",
   "metadata": {
    "slideshow": {
     "slide_type": "slide"
    }
   },
   "source": [
    "# Quiz (15 minutes)\n",
    "\n",
    "0. What's your name?\n",
    "1. What are `[]`, `.iloc[]`, and `.loc[]` used for relative to a `DataFrame` named `df` and how is this done?\n",
    "2. For a column `col` in the `df`, what's the difference between `df.col`, `df['col']`, `df[('col')]`, and `df[['col']]`?  \n",
    "3. Write code which adds the `col2` column to `df` which has the value of `col` times two. <!-- df['col2'] = df.col*2 -->\n",
    "4. What is \"boolean indexing\"?\n",
    "5. What does the following code do?\n",
    "\n",
    "```python \n",
    "amazonbooks.loc[ (amazonbooks.Hard_or_Paper!='H') & \n",
    "                 ( (amazonbooks.NumPages<50) | (amazonbooks.NumPages>600) ),\n",
    "                 ('Title','Author','List Price','NumPages') ]\n",
    "```\n",
    "\n",
    "6. How could the code above be extended to sort the output by the `'NumPages'` column? <!-- .sort_values() # or .sort_values(ascending=True) -->\n",
    "\n",
    "7. Write `pandas` code which provides a count of the number of missing values in `df`.\n",
    "<!-- df.isnull().sum() -->\n",
    "\n",
    "8. Write a \"group by\" command and aggregation function for `df`. \n",
    "<!-- df.groupby('col').sum().mean() # or .count() or .std() etc. -->\n",
    "\n",
    "9. What does `df['col'].value_counts()` do? <!-- counts the number of each observed data value in `col` -->"
   ]
  },
  {
   "cell_type": "markdown",
   "id": "09bc00f8",
   "metadata": {
    "slideshow": {
     "slide_type": "subslide"
    }
   },
   "source": [
    "# Discussion (30 minutes)\n",
    "\n",
    "- Review the quiz and address any open questions or concerns"
   ]
  },
  {
   "cell_type": "markdown",
   "id": "6ee1a0d2",
   "metadata": {
    "slideshow": {
     "slide_type": "slide"
    }
   },
   "source": [
    "# Plagiarism and Paraphrasing (35 minutes)\n",
    "\n",
    "1. (10/35 mintues) Play this video for students: [https://q.utoronto.ca/courses/277998/pages/writing-skills-videos-week-3-problem-set]()\n",
    "2. (10/35 minutes) Disucss the following questions\n",
    "  - What are the 6 most common types of plagarism?\n",
    "  - What is unexpected to you from the video or what have you learned from this video?\n",
    "  - Did you see any behavior of others that could've been counted as plagarism? How would you correct them/help them avoid plagarism?\n",
    "  \n",
    "3. (10/35 minutes) Put students in groups of 3 and have the students the best of the 4 choices: [https://github.com/quin97/STA130_M3_Tutorial/blob/main/Bach%20Oboe%20Source%20Use%20(plagiarism).pdf]()\n",
    "5. (5/35 minutes) Discuss and convey the critical nature of academic integrity and UofT\n",
    "        "
   ]
  },
  {
   "cell_type": "markdown",
   "id": "2397e626",
   "metadata": {
    "slideshow": {
     "slide_type": "slide"
    }
   },
   "source": [
    "# Tutorial Assignment (20 minutes remaining... get started... )\n",
    "\n",
    "Use \"boolean indexing\" and the `.sum()` and other \"aggregation functions\" along with `.groupby()` to provide some interesting tidbits about the `oly12countries.csv` data. As you report your various findings, additionally paraphrase the coding that produced each result. \n",
    "- Do not include any code in your written submission.\n",
    "- Include your code as a `.ipynb` notebook along with your written submission.\n",
    "    - Annotate your notebook with comments where it's helpful for understanding what you're doing."
   ]
  },
  {
   "cell_type": "markdown",
   "id": "4eee1673",
   "metadata": {
    "slideshow": {
     "slide_type": "subslide"
    }
   },
   "source": [
    "### Notes on approaching the writing prompt\n",
    "\n",
    "- Hand in the assignment on Quercus\n",
    "- Use full sentences\n",
    "- Grammar is *not* the main focus of the assessment, but it is important that you communicate in a clear and professional manner (without slang or emojis) \n",
    "- Aim for 200 - 500 words\n",
    "- Do not spend more than 90 minutes on the prompt (unless you really need to...)"
   ]
  }
 ],
 "metadata": {
  "celltoolbar": "Slideshow",
  "kernelspec": {
   "display_name": "Python 3 (ipykernel)",
   "language": "python",
   "name": "python3"
  },
  "language_info": {
   "codemirror_mode": {
    "name": "ipython",
    "version": 3
   },
   "file_extension": ".py",
   "mimetype": "text/x-python",
   "name": "python",
   "nbconvert_exporter": "python",
   "pygments_lexer": "ipython3",
   "version": "3.10.8"
  }
 },
 "nbformat": 4,
 "nbformat_minor": 5
}
